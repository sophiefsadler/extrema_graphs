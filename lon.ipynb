{
 "cells": [
  {
   "attachments": {},
   "cell_type": "markdown",
   "metadata": {},
   "source": [
    "## Demonstration of the LON algorithm"
   ]
  },
  {
   "cell_type": "code",
   "execution_count": 1,
   "metadata": {},
   "outputs": [],
   "source": [
    "import numpy as np\n",
    "from scipy import optimize\n",
    "from functions import AckleyMin3d\n",
    "beta = 0.4546\n",
    "multiplier = 2\n",
    "# random seeding\n",
    "seed =12345\n",
    "np.random.seed(seed)"
   ]
  },
  {
   "cell_type": "code",
   "execution_count": 2,
   "metadata": {},
   "outputs": [],
   "source": [
    "# basin hopping\n",
    "def basin_hopping(problem, step_size, \n",
    "                    iter_limit = 1000, opt_config={}):\n",
    "    # x_tolerance up to 5 decimals\n",
    "    function = problem.fitness\n",
    "    lower_bounds, upper_bounds = problem.get_bounds()\n",
    "    optima = []\n",
    "    values = []\n",
    "    # local search parameters -- from LON paper\n",
    "    method = opt_config.get(\"method\", \"L-BFGS-B\")\n",
    "    tol = opt_config.get(\"tol\", 10**-7)\n",
    "    maxiter = opt_config.get(\"maxiter\", 15000)\n",
    "    # initial solution\n",
    "    x_init = np.random.uniform(low=lower_bounds, high=upper_bounds)\n",
    "    res = optimize.minimize(function, x0=x_init, method=method, tol=tol,\n",
    "                            options={\"maxiter\":maxiter})\n",
    "    if res[\"success\"]:\n",
    "        x_opt = res[\"x\"]\n",
    "        optima.append(x_opt)\n",
    "        values.append(function(x_opt))\n",
    "    else:\n",
    "        raise Exception(\"Optimiser failed!\")\n",
    "    counter = 0\n",
    "    while True:\n",
    "        x_new = x_opt + np.random.uniform(low=-step_size, high=step_size)\n",
    "        x_new = np.clip(x_new, lower_bounds, upper_bounds)\n",
    "        res = optimize.minimize(function, x0=x_new, method=method, tol=tol,\n",
    "                                    options={\"maxiter\":maxiter})\n",
    "        if res[\"success\"]:\n",
    "            x_nopt = res[\"x\"]\n",
    "        else:\n",
    "            raise Exception(\"Optimiser failed!\")\n",
    "        if function(x_nopt) <= function(x_opt):\n",
    "            x_opt = x_nopt\n",
    "            optima.append(x_opt)\n",
    "            values.append(function(x_opt))\n",
    "            counter = 0\n",
    "        else:\n",
    "            counter += 1\n",
    "        if counter >= iter_limit:\n",
    "            break\n",
    "    return np.array(optima), np.array(values)"
   ]
  },
  {
   "cell_type": "code",
   "execution_count": 3,
   "metadata": {},
   "outputs": [],
   "source": [
    "optima, values = basin_hopping(AckleyMin3d, beta*multiplier)"
   ]
  },
  {
   "cell_type": "code",
   "execution_count": 4,
   "metadata": {},
   "outputs": [
    {
     "data": {
      "text/plain": [
       "(array([[ 28.50489636, -12.50206497, -20.50349945],\n",
       "        [ 27.50463797, -13.50228832, -21.50362842],\n",
       "        [ 27.50465012, -13.5022826 , -21.50363543],\n",
       "        [ 26.50433106, -14.50236963, -22.50367722],\n",
       "        [ 25.50397988, -15.50242599, -23.50367606],\n",
       "        [ 25.50398043, -15.5024254 , -23.50367547],\n",
       "        [ 25.50398257, -15.50242246, -23.5036724 ],\n",
       "        [ 25.50398423, -15.50242164, -23.50367172],\n",
       "        [ 25.50398428, -15.50242168, -23.50367169],\n",
       "        [ 24.50364754, -16.50241644, -24.50360069],\n",
       "        [ 23.50325169, -17.50242141, -25.50352849],\n",
       "        [ 22.50288638, -18.50237321, -26.50339964],\n",
       "        [ 21.50253326, -19.50229765, -27.50324033],\n",
       "        [ 20.50219781, -20.5021996 , -28.50305769],\n",
       "        [ 19.50188835, -21.50208211, -29.50285694],\n",
       "        [ 19.50188855, -21.50208226, -29.50285708],\n",
       "        [ 19.50188846, -21.5020822 , -29.502857  ],\n",
       "        [ 18.50160493, -22.50195181, -30.50264584],\n",
       "        [ 18.50160487, -22.50195195, -30.50264603],\n",
       "        [ 17.50135289, -23.50181193, -31.50242955],\n",
       "        [ 17.50135011, -23.50181303, -31.50243019],\n",
       "        [ 17.50135003, -23.50181291, -31.50243015],\n",
       "        [ 16.50112307, -24.50166924, -32.50221407],\n",
       "        [ 16.50112378, -24.50166973, -32.50221482],\n",
       "        [ 16.5011242 , -24.50166936, -32.50221447],\n",
       "        [ 16.50112421, -24.50166933, -32.50221447],\n",
       "        [ 16.5011242 , -24.50166935, -32.50221446],\n",
       "        [ 15.50102243, -25.50169168, -32.50216413],\n",
       "        [ 15.50102596, -25.50168902, -32.50215252],\n",
       "        [ 15.50102668, -25.50168903, -32.50215271],\n",
       "        [ 15.50102668, -25.50168908, -32.50215278],\n",
       "        [ 18.50066493, -27.50099071, -35.50127692],\n",
       "        [ 22.500547  , -28.50069248, -36.50088905],\n",
       "        [ 23.50039692, -33.50056659, -35.50060012]]),\n",
       " array([-22.07997173, -22.08494053, -22.08494053, -22.0921848 ,\n",
       "        -22.10146974, -22.10146974, -22.10146974, -22.10146974,\n",
       "        -22.10146974, -22.11250673, -22.12497086, -22.13851911,\n",
       "        -22.1528077 , -22.16750726, -22.18231507, -22.18231507,\n",
       "        -22.18231507, -22.19696383, -22.19696383, -22.21122706,\n",
       "        -22.21122706, -22.21122706, -22.22492137, -22.22492137,\n",
       "        -22.22492137, -22.22492137, -22.22492137, -22.22784857,\n",
       "        -22.22784857, -22.22784857, -22.22784857, -22.27704402,\n",
       "        -22.29802948, -22.31200317]))"
      ]
     },
     "execution_count": 4,
     "metadata": {},
     "output_type": "execute_result"
    }
   ],
   "source": [
    "optima, values"
   ]
  },
  {
   "cell_type": "code",
   "execution_count": 5,
   "metadata": {},
   "outputs": [
    {
     "data": {
      "text/plain": [
       "(array([ 23.50039692, -33.50056659, -35.50060012]), -22.312003172722264)"
      ]
     },
     "execution_count": 5,
     "metadata": {},
     "output_type": "execute_result"
    }
   ],
   "source": [
    "best_ind = np.argmin(values)\n",
    "optima[best_ind], values[best_ind]"
   ]
  },
  {
   "cell_type": "code",
   "execution_count": null,
   "metadata": {},
   "outputs": [],
   "source": []
  }
 ],
 "metadata": {
  "kernelspec": {
   "display_name": "base",
   "language": "python",
   "name": "python3"
  },
  "language_info": {
   "codemirror_mode": {
    "name": "ipython",
    "version": 3
   },
   "file_extension": ".py",
   "mimetype": "text/x-python",
   "name": "python",
   "nbconvert_exporter": "python",
   "pygments_lexer": "ipython3",
   "version": "3.8.5"
  },
  "orig_nbformat": 4,
  "vscode": {
   "interpreter": {
    "hash": "6b28e8f5ff6f01a8a5f4789bee843a56228de2cd48dbf13c74a023592001ae54"
   }
  }
 },
 "nbformat": 4,
 "nbformat_minor": 2
}
