{
 "cells": [
  {
   "attachments": {},
   "cell_type": "markdown",
   "metadata": {},
   "source": [
    "## Demonstration of the LON algorithm"
   ]
  },
  {
   "cell_type": "code",
   "execution_count": 1,
   "metadata": {},
   "outputs": [],
   "source": [
    "import numpy as np\n",
    "import matplotlib.pyplot as plt\n",
    "from scipy import optimize\n",
    "from tqdm.auto import tqdm\n",
    "from functions import *\n",
    "import networkx as nx\n",
    "import igraph as ig\n",
    "import time\n",
    "plt.ion()\n",
    "#  colors \n",
    "dark_red = \"#de2d26\"\n",
    "light_red = \"#fee0d2\"\n",
    "light_blue = \"#a6bddb\"\n",
    "# parameters\n",
    "problem = RastriginMin5d\n",
    "beta = 0.4749\n",
    "multiplier = 2\n",
    "tolerance = 10**(-5) # tolerance for x equivalency\n",
    "budget = 10\n",
    "# random seeding\n",
    "seed = 12345\n",
    "np.random.seed(seed)"
   ]
  },
  {
   "cell_type": "code",
   "execution_count": 2,
   "metadata": {},
   "outputs": [],
   "source": [
    "def process_inds(optima, values, tolerance=10**(-4)):\n",
    "    inds = np.ones(len(optima), dtype=int)*-1\n",
    "    count = 0\n",
    "    pbar = tqdm(total = len(inds))\n",
    "    for i in range(len(inds)):\n",
    "        pbar.set_description(\"Processing index: %s \" % str(i))\n",
    "        if inds[i]< 0:\n",
    "            eq_inds = np.where(np.all(np.abs(optima[i] - optima) <= tolerance, axis=1)==True)[0]\n",
    "            inds[eq_inds] = count\n",
    "            count += 1\n",
    "        pbar.update(1)\n",
    "    pbar.close()\n",
    "    return inds\n",
    "    \n",
    "def plot_graph(opts, vals, lengs, tolerance=10**(-5)):\n",
    "    for i in range(1, len(lengs)):\n",
    "        lengs[i] = lengs[i-1]+lengs[i] \n",
    "    inds = process_inds(opts,vals, tolerance=tolerance)\n",
    "    unique, counts = np.unique(inds, return_counts=True)\n",
    "    G = nx.DiGraph()\n",
    "    G.add_nodes_from(unique)\n",
    "    count = 0\n",
    "    for i in range(1, len(opts)):\n",
    "        if i not in lengs:\n",
    "            G.add_edge(inds[i-1], inds[i])\n",
    "    best_ind = np.argmin(vals)\n",
    "    best_node_label = inds[best_ind]\n",
    "    best_subgraph = nx.bfs_tree(G, best_node_label, reverse=True)\n",
    "    pos = nx.spring_layout(G)\n",
    "    node_size = [np.log(counts[i]*1000)+50 for i in range(len(unique))]\n",
    "    node_color = []\n",
    "    for i in range(len(unique)):\n",
    "        if unique[i] in best_subgraph:\n",
    "            if unique[i] == best_node_label:\n",
    "                node_color.append(dark_red)\n",
    "            else:\n",
    "                node_color.append(light_red)\n",
    "        else:\n",
    "            node_color.append(light_blue)\n",
    "    nx.draw(G, pos, node_color=node_color, node_size=node_size, alpha=0.75)\n",
    "    return G"
   ]
  },
  {
   "cell_type": "code",
   "execution_count": 3,
   "metadata": {},
   "outputs": [],
   "source": [
    "# basin hopping -- from LON paper\n",
    "def basin_hopping(problem, step_size, \n",
    "                    iter_limit = 1000, opt_config={}):\n",
    "    function = problem.fitness\n",
    "    lower_bounds, upper_bounds = problem.get_bounds()\n",
    "    optima = []\n",
    "    values = []\n",
    "    # local search parameters -- from LON paper\n",
    "    method = opt_config.get(\"method\", \"L-BFGS-B\")\n",
    "    tol = opt_config.get(\"tol\", 10**-7)\n",
    "    maxiter = opt_config.get(\"maxiter\", 15000)\n",
    "    # initial solution\n",
    "    x_init = np.random.uniform(low=lower_bounds, high=upper_bounds)\n",
    "    res = optimize.minimize(function, x0=x_init, method=method, tol=tol,\n",
    "                            options={\"maxiter\":maxiter})\n",
    "    if res[\"success\"]:\n",
    "        x_opt = res[\"x\"]\n",
    "        optima.append(x_opt)\n",
    "        values.append(function(x_opt))\n",
    "    else:\n",
    "        raise Exception(\"Optimiser failed!\")\n",
    "    counter = 0\n",
    "    while True:\n",
    "        x_new = x_opt + np.random.uniform(low=-step_size, high=step_size)\n",
    "        x_new = np.clip(x_new, lower_bounds, upper_bounds)\n",
    "        res = optimize.minimize(function, x0=x_new, method=method, tol=tol,\n",
    "                                    options={\"maxiter\":maxiter})\n",
    "        if res[\"success\"]:\n",
    "            x_nopt = res[\"x\"]\n",
    "        else:\n",
    "            raise Exception(\"Optimiser failed!\")\n",
    "        if function(x_nopt) <= function(x_opt):\n",
    "            x_opt = x_nopt\n",
    "            optima.append(x_opt)\n",
    "            values.append(function(x_opt))\n",
    "            counter = 0\n",
    "        else:\n",
    "            counter += 1\n",
    "        if counter >= iter_limit:\n",
    "            break\n",
    "    return np.array(optima), np.array(values)\n",
    "\n",
    "def run_multiple_hoppers(problem, beta, multiplier, budget=100, iter_limit=1000, opt_config={}):\n",
    "    opts, vals, lengs = [], [], []\n",
    "    count = 0\n",
    "    pbar = tqdm(total = budget)\n",
    "    while True:\n",
    "        try:\n",
    "            # print(\"Run no: \", count + 1)\n",
    "            pbar.set_description(\"Run number: %s \" % str(count+1))\n",
    "            optima, values = basin_hopping(problem, beta*multiplier, iter_limit, **opt_config)\n",
    "            opts.append(optima)\n",
    "            vals.append(values)\n",
    "            lengs.append(len(optima))\n",
    "            count += 1\n",
    "            pbar.update(1)\n",
    "        except Exception as e:\n",
    "            print(e)\n",
    "        if count >= budget:\n",
    "            break\n",
    "    pbar.close()\n",
    "    opts = np.concatenate(opts)\n",
    "    vals = np.concatenate(vals)\n",
    "    lengs = np.array(lengs)\n",
    "    return opts, vals, lengs\n",
    "\n",
    "\n",
    "def plot_LON(problem, beta, multiplier, tolerance=10**(-5), budget=100, iter_limit=1000, opt_config={}): \n",
    "    opts, vals, lengs = run_multiple_hoppers(problem, beta, multiplier, budget=budget)\n",
    "    # optimum\n",
    "    best_ind = np.argmin(vals)\n",
    "    print(\"Optimal solution: \", opts[best_ind])\n",
    "    print(\"Optimal value: \", vals[best_ind])\n",
    "    # plot LON\n",
    "    G = plot_graph(opts, vals, lengs, tolerance=tolerance)\n",
    "    return G, opts, vals, lengs\n",
    "    "
   ]
  },
  {
   "cell_type": "code",
   "execution_count": 4,
   "metadata": {},
   "outputs": [
    {
     "name": "stderr",
     "output_type": "stream",
     "text": [
      "Run number: 10 : 100%|██████████| 10/10 [00:05<00:00,  1.97it/s]\n",
      "Processing index: 103 : 100%|██████████| 104/104 [00:00<00:00, 2964.90it/s]\n"
     ]
    },
    {
     "name": "stdout",
     "output_type": "stream",
     "text": [
      "Optimal solution:  [ 1.11205009e+08  9.52899518e+08  1.11205009e+08  3.66670867e+08\n",
      " -1.11321507e+08]\n",
      "Optimal value:  -1.0795906023037299e+18\n"
     ]
    },
    {
     "data": {
      "image/png": "[encoded data removed]",
      "text/plain": [
       "<Figure size 432x288 with 1 Axes>"
      ]
     },
     "metadata": {},
     "output_type": "display_data"
    }
   ],
   "source": [
    "G, opt, vals, lengs = plot_LON(problem, beta, multiplier, budget=budget, tolerance=tolerance)"
   ]
  }
 ],
 "metadata": {
  "kernelspec": {
   "display_name": "base",
   "language": "python",
   "name": "python3"
  },
  "language_info": {
   "codemirror_mode": {
    "name": "ipython",
    "version": 3
   },
   "file_extension": ".py",
   "mimetype": "text/x-python",
   "name": "python",
   "nbconvert_exporter": "python",
   "pygments_lexer": "ipython3",
   "version": "3.8.5"
  },
  "orig_nbformat": 4,
  "vscode": {
   "interpreter": {
    "hash": "6b28e8f5ff6f01a8a5f4789bee843a56228de2cd48dbf13c74a023592001ae54"
   }
  }
 },
 "nbformat": 4,
 "nbformat_minor": 2
}
